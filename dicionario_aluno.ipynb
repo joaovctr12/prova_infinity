{
  "nbformat": 4,
  "nbformat_minor": 0,
  "metadata": {
    "colab": {
      "provenance": [],
      "authorship_tag": "ABX9TyP/EiO0dMBuR3emHW+SME24",
      "include_colab_link": true
    },
    "kernelspec": {
      "name": "python3",
      "display_name": "Python 3"
    },
    "language_info": {
      "name": "python"
    }
  },
  "cells": [
    {
      "cell_type": "markdown",
      "metadata": {
        "id": "view-in-github",
        "colab_type": "text"
      },
      "source": [
        "<a href=\"https://colab.research.google.com/github/joaovctr12/prova_infinity/blob/main/dicionario_aluno.ipynb\" target=\"_parent\"><img src=\"https://colab.research.google.com/assets/colab-badge.svg\" alt=\"Open In Colab\"/></a>"
      ]
    },
    {
      "cell_type": "code",
      "execution_count": 35,
      "metadata": {
        "colab": {
          "base_uri": "https://localhost:8080/"
        },
        "id": "Mpj7ic0JFU4G",
        "outputId": "8536b243-9c8c-4ea2-e93c-fe0b0a9dad9a"
      },
      "outputs": [
        {
          "output_type": "stream",
          "name": "stdout",
          "text": [
            "Nome: Joao\n",
            "Sobrenome: Alves\n",
            "Idade: 25\n",
            "Email: jv@gmail.com\n",
            "Notas: 6\n",
            "Notas: 7\n",
            "Notas: 8\n",
            "Notas: 9\n",
            "nome: Joao\n",
            "sobrenome: Alves\n",
            "idade: 25\n",
            "email: jv@gmail.com\n",
            "maior nota: 9\n",
            "media: 7.5\n"
          ]
        }
      ],
      "source": [
        "aluno = {\n",
        "    'nome': input('Nome: '),\n",
        "    'sobrenome' : input('Sobrenome: '),\n",
        "    'idade' : int(input('Idade: ')),\n",
        "    'email': input('Email: '),\n",
        "    'maior nota': int(0),\n",
        "    'media': int(0)\n",
        "}\n",
        "\n",
        "count = 0\n",
        "soma = 0\n",
        "\n",
        "for nota in range(4):\n",
        "  nota = int(input('Notas: '))\n",
        "  if nota > (aluno[\"maior nota\"]):\n",
        "    (aluno[\"maior nota\"]) = nota\n",
        "  count += 1\n",
        "  soma = (soma + nota)\n",
        "aluno[\"media\"] = (soma/count)\n",
        "\n"
      ]
    },
    {
      "cell_type": "code",
      "source": [
        "for k in aluno.keys():\n",
        "  print (k)"
      ],
      "metadata": {
        "colab": {
          "base_uri": "https://localhost:8080/"
        },
        "id": "2XkFzPv8JaCm",
        "outputId": "071b9500-504c-45c9-f489-438d168e18c5"
      },
      "execution_count": 31,
      "outputs": [
        {
          "output_type": "stream",
          "name": "stdout",
          "text": [
            "nome\n",
            "sobrenome\n",
            "idade\n",
            "maior nota\n",
            "media\n"
          ]
        }
      ]
    },
    {
      "cell_type": "code",
      "source": [
        "for v in aluno.values():\n",
        "  print (v)"
      ],
      "metadata": {
        "colab": {
          "base_uri": "https://localhost:8080/"
        },
        "id": "rxH6AZhuGDFq",
        "outputId": "6404722f-f334-47ce-aca0-3a0d56cd9ed8"
      },
      "execution_count": 32,
      "outputs": [
        {
          "output_type": "stream",
          "name": "stdout",
          "text": [
            "Joao\n",
            "Alves\n",
            "25\n",
            "4\n",
            "2.5\n"
          ]
        }
      ]
    },
    {
      "cell_type": "code",
      "source": [
        "\n",
        "for k, v in zip(aluno.keys(), aluno.values()):\n",
        "  print(f'{k}: {v}')"
      ],
      "metadata": {
        "id": "R03PTxlYJxQf"
      },
      "execution_count": 33,
      "outputs": []
    }
  ]
}