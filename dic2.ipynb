{
  "nbformat": 4,
  "nbformat_minor": 0,
  "metadata": {
    "colab": {
      "provenance": [],
      "authorship_tag": "ABX9TyOziO2ZbWBiOndgtPYTKpBp",
      "include_colab_link": true
    },
    "kernelspec": {
      "name": "python3",
      "display_name": "Python 3"
    },
    "language_info": {
      "name": "python"
    }
  },
  "cells": [
    {
      "cell_type": "markdown",
      "metadata": {
        "id": "view-in-github",
        "colab_type": "text"
      },
      "source": [
        "<a href=\"https://colab.research.google.com/github/joaovctr12/prova_infinity/blob/main/dic2.ipynb\" target=\"_parent\"><img src=\"https://colab.research.google.com/assets/colab-badge.svg\" alt=\"Open In Colab\"/></a>"
      ]
    },
    {
      "cell_type": "code",
      "execution_count": null,
      "metadata": {
        "colab": {
          "base_uri": "https://localhost:8080/"
        },
        "id": "oKjGh2phZ0hS",
        "outputId": "34af1587-8478-4c80-f41e-e09ac2f30671"
      },
      "outputs": [
        {
          "output_type": "stream",
          "name": "stdout",
          "text": [
            "************-----------------------\n",
            "************-----------------------\n",
            "************-----------------------\n",
            "************-----------------------\n",
            "************-----------------------\n",
            "-----------------------------------\n",
            "-----------------------------------\n",
            "-----------------------------------\n",
            "-----------------------------------\n",
            "-----------------------------------\n"
          ]
        }
      ],
      "source": [
        "for i in range (5):\n",
        "  print('************-----------------------')\n",
        "for i in range (5):\n",
        "  print('-----------------------------------')"
      ]
    },
    {
      "cell_type": "code",
      "source": [
        "while comando:\n",
        "\n",
        "  comando = input('Comando: ')\n",
        "\n",
        "  if comando == 'iniciar':\n",
        "\n",
        "    aluno = {\n",
        "      'nome': input('Nome: '),\n",
        "      'sobrenome' : input('Sobrenome: '),\n",
        "      'idade' : int(input('Idade: ')),\n",
        "      'email': input('Email: '),\n",
        "      'maior nota': int(0),\n",
        "      'media': int(0)\n",
        "    }\n",
        "\n",
        "    count = 0\n",
        "    soma = 0\n",
        "\n",
        "    for nota in range(4):\n",
        "      nota = int(input('Notas: '))\n",
        "      if nota > (aluno[\"maior nota\"]):\n",
        "        (aluno[\"maior nota\"]) = nota\n",
        "        count += 1\n",
        "        soma = (soma + nota)\n",
        "        aluno[\"media\"] = (soma/count)\n",
        "      else:\n",
        "        pass\n",
        "\n",
        "\n",
        "    print(calcular_media(aluno))\n",
        "\n",
        "  elif comando == 'novo':\n",
        "    aluno = {\n",
        "      'nome': input('Nome: '),\n",
        "      'sobrenome' : input('Sobrenome: '),\n",
        "      'idade' : int(input('Idade: ')),\n",
        "      'email': input('Email: '),\n",
        "      'maior nota': int(0),\n",
        "      'media': int(0)\n",
        "    }\n",
        "\n",
        "    count = 0\n",
        "    soma = 0\n",
        "\n",
        "    for nota in range(4):\n",
        "      nota = int(input('Notas: '))\n",
        "      if nota > (aluno[\"maior nota\"]):\n",
        "        (aluno[\"maior nota\"]) = nota\n",
        "      count += 1\n",
        "      soma = (soma + nota)\n",
        "      aluno[\"media\"] = (soma/count)\n",
        "\n",
        "    print(calcular_media(aluno))\n",
        "\n",
        "  else:\n",
        "    break\n",
        "\n"
      ],
      "metadata": {
        "colab": {
          "base_uri": "https://localhost:8080/",
          "height": 561
        },
        "id": "RVRekGFqbAy5",
        "outputId": "24aa1b73-57d1-4661-90ea-2dc979dd8730"
      },
      "execution_count": 54,
      "outputs": [
        {
          "name": "stdout",
          "output_type": "stream",
          "text": [
            "Comando: iniciar\n",
            "Nome: 1\n",
            "Sobrenome: 2\n",
            "Idade: 3\n",
            "Email: 4\n",
            "Notas: 5\n",
            "Notas: 6\n",
            "Notas: 7\n",
            "Notas: 8\n"
          ]
        },
        {
          "output_type": "error",
          "ename": "KeyboardInterrupt",
          "evalue": "ignored",
          "traceback": [
            "\u001b[0;31m---------------------------------------------------------------------------\u001b[0m",
            "\u001b[0;31mKeyboardInterrupt\u001b[0m                         Traceback (most recent call last)",
            "\u001b[0;32m<ipython-input-54-73e54152d1f9>\u001b[0m in \u001b[0;36m<cell line: 1>\u001b[0;34m()\u001b[0m\n\u001b[1;32m     28\u001b[0m \u001b[0;34m\u001b[0m\u001b[0m\n\u001b[1;32m     29\u001b[0m \u001b[0;34m\u001b[0m\u001b[0m\n\u001b[0;32m---> 30\u001b[0;31m     \u001b[0mprint\u001b[0m\u001b[0;34m(\u001b[0m\u001b[0mcalcular_media\u001b[0m\u001b[0;34m(\u001b[0m\u001b[0maluno\u001b[0m\u001b[0;34m)\u001b[0m\u001b[0;34m)\u001b[0m\u001b[0;34m\u001b[0m\u001b[0;34m\u001b[0m\u001b[0m\n\u001b[0m\u001b[1;32m     31\u001b[0m \u001b[0;34m\u001b[0m\u001b[0m\n\u001b[1;32m     32\u001b[0m   \u001b[0;32melif\u001b[0m \u001b[0mcomando\u001b[0m \u001b[0;34m==\u001b[0m \u001b[0;34m'novo'\u001b[0m\u001b[0;34m:\u001b[0m\u001b[0;34m\u001b[0m\u001b[0;34m\u001b[0m\u001b[0m\n",
            "\u001b[0;32m<ipython-input-35-288f6af68640>\u001b[0m in \u001b[0;36mcalcular_media\u001b[0;34m(aluno)\u001b[0m\n\u001b[1;32m     17\u001b[0m \u001b[0;34m\u001b[0m\u001b[0m\n\u001b[1;32m     18\u001b[0m       \u001b[0;32mfor\u001b[0m \u001b[0mnota\u001b[0m \u001b[0;32min\u001b[0m \u001b[0mrange\u001b[0m\u001b[0;34m(\u001b[0m\u001b[0;36m4\u001b[0m\u001b[0;34m)\u001b[0m\u001b[0;34m:\u001b[0m\u001b[0;34m\u001b[0m\u001b[0;34m\u001b[0m\u001b[0m\n\u001b[0;32m---> 19\u001b[0;31m         \u001b[0mnota\u001b[0m \u001b[0;34m=\u001b[0m \u001b[0mint\u001b[0m\u001b[0;34m(\u001b[0m\u001b[0minput\u001b[0m\u001b[0;34m(\u001b[0m\u001b[0;34m'Notas: '\u001b[0m\u001b[0;34m)\u001b[0m\u001b[0;34m)\u001b[0m\u001b[0;34m\u001b[0m\u001b[0;34m\u001b[0m\u001b[0m\n\u001b[0m\u001b[1;32m     20\u001b[0m         \u001b[0;32mif\u001b[0m \u001b[0mnota\u001b[0m \u001b[0;34m>\u001b[0m \u001b[0;34m(\u001b[0m\u001b[0maluno\u001b[0m\u001b[0;34m[\u001b[0m\u001b[0;34m\"maior nota\"\u001b[0m\u001b[0;34m]\u001b[0m\u001b[0;34m)\u001b[0m\u001b[0;34m:\u001b[0m\u001b[0;34m\u001b[0m\u001b[0;34m\u001b[0m\u001b[0m\n\u001b[1;32m     21\u001b[0m           \u001b[0;34m(\u001b[0m\u001b[0maluno\u001b[0m\u001b[0;34m[\u001b[0m\u001b[0;34m\"maior nota\"\u001b[0m\u001b[0;34m]\u001b[0m\u001b[0;34m)\u001b[0m \u001b[0;34m=\u001b[0m \u001b[0mnota\u001b[0m\u001b[0;34m\u001b[0m\u001b[0;34m\u001b[0m\u001b[0m\n",
            "\u001b[0;32m/usr/local/lib/python3.10/dist-packages/ipykernel/kernelbase.py\u001b[0m in \u001b[0;36mraw_input\u001b[0;34m(self, prompt)\u001b[0m\n\u001b[1;32m    849\u001b[0m                 \u001b[0;34m\"raw_input was called, but this frontend does not support input requests.\"\u001b[0m\u001b[0;34m\u001b[0m\u001b[0;34m\u001b[0m\u001b[0m\n\u001b[1;32m    850\u001b[0m             )\n\u001b[0;32m--> 851\u001b[0;31m         return self._input_request(str(prompt),\n\u001b[0m\u001b[1;32m    852\u001b[0m             \u001b[0mself\u001b[0m\u001b[0;34m.\u001b[0m\u001b[0m_parent_ident\u001b[0m\u001b[0;34m,\u001b[0m\u001b[0;34m\u001b[0m\u001b[0;34m\u001b[0m\u001b[0m\n\u001b[1;32m    853\u001b[0m             \u001b[0mself\u001b[0m\u001b[0;34m.\u001b[0m\u001b[0m_parent_header\u001b[0m\u001b[0;34m,\u001b[0m\u001b[0;34m\u001b[0m\u001b[0;34m\u001b[0m\u001b[0m\n",
            "\u001b[0;32m/usr/local/lib/python3.10/dist-packages/ipykernel/kernelbase.py\u001b[0m in \u001b[0;36m_input_request\u001b[0;34m(self, prompt, ident, parent, password)\u001b[0m\n\u001b[1;32m    893\u001b[0m             \u001b[0;32mexcept\u001b[0m \u001b[0mKeyboardInterrupt\u001b[0m\u001b[0;34m:\u001b[0m\u001b[0;34m\u001b[0m\u001b[0;34m\u001b[0m\u001b[0m\n\u001b[1;32m    894\u001b[0m                 \u001b[0;31m# re-raise KeyboardInterrupt, to truncate traceback\u001b[0m\u001b[0;34m\u001b[0m\u001b[0;34m\u001b[0m\u001b[0m\n\u001b[0;32m--> 895\u001b[0;31m                 \u001b[0;32mraise\u001b[0m \u001b[0mKeyboardInterrupt\u001b[0m\u001b[0;34m(\u001b[0m\u001b[0;34m\"Interrupted by user\"\u001b[0m\u001b[0;34m)\u001b[0m \u001b[0;32mfrom\u001b[0m \u001b[0;32mNone\u001b[0m\u001b[0;34m\u001b[0m\u001b[0;34m\u001b[0m\u001b[0m\n\u001b[0m\u001b[1;32m    896\u001b[0m             \u001b[0;32mexcept\u001b[0m \u001b[0mException\u001b[0m \u001b[0;32mas\u001b[0m \u001b[0me\u001b[0m\u001b[0;34m:\u001b[0m\u001b[0;34m\u001b[0m\u001b[0;34m\u001b[0m\u001b[0m\n\u001b[1;32m    897\u001b[0m                 \u001b[0mself\u001b[0m\u001b[0;34m.\u001b[0m\u001b[0mlog\u001b[0m\u001b[0;34m.\u001b[0m\u001b[0mwarning\u001b[0m\u001b[0;34m(\u001b[0m\u001b[0;34m\"Invalid Message:\"\u001b[0m\u001b[0;34m,\u001b[0m \u001b[0mexc_info\u001b[0m\u001b[0;34m=\u001b[0m\u001b[0;32mTrue\u001b[0m\u001b[0;34m)\u001b[0m\u001b[0;34m\u001b[0m\u001b[0;34m\u001b[0m\u001b[0m\n",
            "\u001b[0;31mKeyboardInterrupt\u001b[0m: Interrupted by user"
          ]
        }
      ]
    },
    {
      "cell_type": "code",
      "source": [
        "aluno"
      ],
      "metadata": {
        "colab": {
          "base_uri": "https://localhost:8080/"
        },
        "id": "07eYwFJhxpJB",
        "outputId": "b0bf9b92-92c2-4210-f544-3601f8062534"
      },
      "execution_count": 21,
      "outputs": [
        {
          "output_type": "execute_result",
          "data": {
            "text/plain": [
              "{'nome': '1',\n",
              " 'sobrenome': '2',\n",
              " 'idade': 3,\n",
              " 'email': '4',\n",
              " 'maior nota': 8,\n",
              " 'media': 6.5}"
            ]
          },
          "metadata": {},
          "execution_count": 21
        }
      ]
    }
  ]
}